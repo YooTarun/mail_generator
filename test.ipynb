{
 "cells": [
  {
   "cell_type": "code",
   "execution_count": 34,
   "metadata": {},
   "outputs": [
    {
     "name": "stdout",
     "output_type": "stream",
     "text": [
      "Validation successful!\n",
      "Response: {'intent': {'intent': 'Backend', 'message': 'Need Go and Web developers', 'explanation': 'The user’s interest in Golang (server-side language) and the context of the visits to pages related to backend technologies suggest a focus on backend development.'}, 'email': {'email': \"Dear kimpossible,\\n\\nBased on your recent inquiry and interest in Golang and web development, we are thrilled to offer our extensive expertise in backend technologies tailored to meet your project's specific needs. Our team of seasoned Golang developers is adept at building high-performance, scalable, and secure web solutions that integrate seamlessly with modern frontend technologies like React, Angular, and Vue.js. We also specialize in employing Go's concurrency to turbocharge business processes and provide robust server-side solutions.\\n\\nWe propose an engagement model where you can hire our developers on a project basis or as an extension of your team, working remotely to align seamlessly with your existing workflow. This flexible arrangement is designed to adapt to your project's evolving needs, ensuring dedicated support and strategic development efforts from our experts.\\n\\nOur portfolio showcases a diverse range of successful projects across various domains, giving you a glimpse into our capabilities and innovative approach to using Golang and AI technologies. You can explore more about our work and client success stories via these links:\\nhttps://dribbble.com/mindinventory\\nhttps://www.behance.net/mindinventory\\nhttps://www.mindinventory.com/all-portfolios.php\\n\\nSome of our highlighted projects include dynamic web applications and enterprise-level solutions tailored for high-load environments using microservices architecture and cutting-edge tech combinations with Golang. Our dedicated teams have driven digital success for global businesses striving to achieve impactful digital transformation.\\n\\nTo move forward, we suggest scheduling a meeting to discuss your specific requirements and how our team can add value to your projects. We are ready to collaborate closely from the initial concept to final deployment, ensuring that your project aligns with your strategic goals.\\n\\nBest Regards,\\n[Your Name]\\n[Your Contact Information]\\nhttps://www.mindinventory.com/\"}}\n"
     ]
    }
   ],
   "source": [
    "import requests\n",
    "\n",
    "# Define the API endpoint\n",
    "url = \"http://127.0.0.1:8000/generate-email/\"\n",
    "\n",
    "# Define the payload\n",
    "payload = {\n",
    "    \"email\": \"kimpossible@gmail.com\",\n",
    "    \"name\": \"Kim Possible\",\n",
    "    \"country\": \"India\",\n",
    "    \"contact_number\": \"+918688642324\",\n",
    "    \"message\": \"Need Go and Web developers\",\n",
    "    \"last_3_pages_visited\": [\n",
    "        \"https://www.mindinventory.com/golang-development.php\",\n",
    "        \"https://www.mindinventory.com/hire-ai-developers.php\"\n",
    "    ]\n",
    "}\n",
    "\n",
    "# Send the POST request\n",
    "response = requests.post(url, json=payload)\n",
    "\n",
    "# Check the response\n",
    "if response.status_code == 200:\n",
    "    print(\"Validation successful!\")\n",
    "    print(\"Response:\", response.json())\n",
    "else:\n",
    "    print(f\"Validation failed! Status code: {response.status_code}\")\n",
    "    print(\"Error:\", response.json())\n"
   ]
  },
  {
   "cell_type": "code",
   "execution_count": 11,
   "metadata": {},
   "outputs": [
    {
     "name": "stdout",
     "output_type": "stream",
     "text": [
      "{\n",
      "  \"choices\": [\n",
      "    {\n",
      "      \"content_filter_results\": {\n",
      "        \"hate\": {\n",
      "          \"filtered\": false,\n",
      "          \"severity\": \"safe\"\n",
      "        },\n",
      "        \"protected_material_code\": {\n",
      "          \"filtered\": false,\n",
      "          \"detected\": false\n",
      "        },\n",
      "        \"protected_material_text\": {\n",
      "          \"filtered\": false,\n",
      "          \"detected\": false\n",
      "        },\n",
      "        \"self_harm\": {\n",
      "          \"filtered\": false,\n",
      "          \"severity\": \"safe\"\n",
      "        },\n",
      "        \"sexual\": {\n",
      "          \"filtered\": false,\n",
      "          \"severity\": \"safe\"\n",
      "        },\n",
      "        \"violence\": {\n",
      "          \"filtered\": false,\n",
      "          \"severity\": \"safe\"\n",
      "        }\n",
      "      },\n",
      "      \"finish_reason\": \"length\",\n",
      "      \"index\": 0,\n",
      "      \"logprobs\": null,\n",
      "      \"message\": {\n",
      "        \"content\": \"Integrating OpenAI's capabilities with Microsoft Azure allows you to leverage the power of large AI language models like GPT-3 and others within the Azure ecosystem. The process of integrating OpenAI with Azure involves several steps that enable you to run OpenAI\\u2019s models on Azure\\u2019s robust and scalable infrastructure. This can be particularly beneficial for enterprises that require secure, scalable, and compliant cloud services to handle sensitive data and workloads.\\n\\nHere\\u2019s a step-by-step guide to the integration process:\\n\\n### \",\n",
      "        \"role\": \"assistant\"\n",
      "      }\n",
      "    }\n",
      "  ],\n",
      "  \"created\": 1735631279,\n",
      "  \"id\": \"chatcmpl-AkRGp9hcVyNcSmThWuv90UK0VnqLx\",\n",
      "  \"model\": \"gpt-4-turbo-2024-04-09\",\n",
      "  \"object\": \"chat.completion\",\n",
      "  \"prompt_filter_results\": [\n",
      "    {\n",
      "      \"prompt_index\": 0,\n",
      "      \"content_filter_results\": {\n",
      "        \"hate\": {\n",
      "          \"filtered\": false,\n",
      "          \"severity\": \"safe\"\n",
      "        },\n",
      "        \"jailbreak\": {\n",
      "          \"filtered\": false,\n",
      "          \"detected\": false\n",
      "        },\n",
      "        \"self_harm\": {\n",
      "          \"filtered\": false,\n",
      "          \"severity\": \"safe\"\n",
      "        },\n",
      "        \"sexual\": {\n",
      "          \"filtered\": false,\n",
      "          \"severity\": \"safe\"\n",
      "        },\n",
      "        \"violence\": {\n",
      "          \"filtered\": false,\n",
      "          \"severity\": \"safe\"\n",
      "        }\n",
      "      }\n",
      "    }\n",
      "  ],\n",
      "  \"system_fingerprint\": \"fp_5603ee5e2e\",\n",
      "  \"usage\": {\n",
      "    \"completion_tokens\": 100,\n",
      "    \"prompt_tokens\": 26,\n",
      "    \"total_tokens\": 126\n",
      "  }\n",
      "}\n"
     ]
    }
   ],
   "source": [
    "import openai\n",
    "\n",
    "# Azure OpenAI configuration\n",
    "api_key = \"b71f6a46548f45aebf6ddbd95298b4c9\"\n",
    "endpoint = \"https://aistudio9777243754.cognitiveservices.azure.com/\"\n",
    "deployment_name = \"gpt-4\"\n",
    "api_version = \"2024-08-01-preview\"\n",
    "\n",
    "# Set the OpenAI configuration\n",
    "openai.api_type = \"azure\"\n",
    "openai.api_base = endpoint\n",
    "openai.api_version = api_version\n",
    "openai.api_key = api_key\n",
    "\n",
    "# Make the API call\n",
    "response = openai.ChatCompletion.create(\n",
    "    engine=deployment_name,  # Specify the deployment name\n",
    "    messages=[\n",
    "        {\"role\": \"system\", \"content\": \"You are a helpful assistant.\"},\n",
    "        {\"role\": \"user\", \"content\": \"Explain the Azure OpenAI integration process.\"}\n",
    "    ],\n",
    "    max_tokens=100\n",
    ")\n",
    "\n",
    "print(response)\n"
   ]
  },
  {
   "cell_type": "code",
   "execution_count": 12,
   "metadata": {},
   "outputs": [
    {
     "data": {
      "text/plain": [
       "\"Integrating OpenAI's capabilities with Microsoft Azure allows you to leverage the power of large AI language models like GPT-3 and others within the Azure ecosystem. The process of integrating OpenAI with Azure involves several steps that enable you to run OpenAI’s models on Azure’s robust and scalable infrastructure. This can be particularly beneficial for enterprises that require secure, scalable, and compliant cloud services to handle sensitive data and workloads.\\n\\nHere’s a step-by-step guide to the integration process:\\n\\n### \""
      ]
     },
     "execution_count": 12,
     "metadata": {},
     "output_type": "execute_result"
    }
   ],
   "source": [
    "response['choices'][0]['message']['content']"
   ]
  },
  {
   "cell_type": "code",
   "execution_count": null,
   "metadata": {},
   "outputs": [],
   "source": []
  }
 ],
 "metadata": {
  "kernelspec": {
   "display_name": "Python 3",
   "language": "python",
   "name": "python3"
  },
  "language_info": {
   "codemirror_mode": {
    "name": "ipython",
    "version": 3
   },
   "file_extension": ".py",
   "mimetype": "text/x-python",
   "name": "python",
   "nbconvert_exporter": "python",
   "pygments_lexer": "ipython3",
   "version": "3.10.11"
  }
 },
 "nbformat": 4,
 "nbformat_minor": 2
}
